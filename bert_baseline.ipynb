{
 "cells": [
  {
   "cell_type": "code",
   "execution_count": null,
   "metadata": {},
   "outputs": [],
   "source": [
    "!pip install transformers\n",
    "!pip install wandb"
   ]
  },
  {
   "cell_type": "code",
   "execution_count": 43,
   "metadata": {},
   "outputs": [],
   "source": [
    "import torch\n",
    "import torch.nn as nn\n",
    "import numpy as np\n",
    "import pandas as pd\n",
    "from sklearn.model_selection import train_test_split\n",
    "from transformers import AutoTokenizer, AutoModelForMaskedLM\n",
    "from transformers import AutoTokenizer, AutoModel\n",
    "from typing import List\n",
    "from torch.utils.data import DataLoader\n",
    "from tqdm import tqdm"
   ]
  },
  {
   "cell_type": "code",
   "execution_count": 83,
   "metadata": {},
   "outputs": [],
   "source": [
    "DATA_PATH = 'data/WELFake_Dataset.csv'\n",
    "BATCH_SIZE = 1\n",
    "LR = 1e-4\n",
    "EPOCH = 10\n",
    "device = 'cuda' if torch.cuda.is_available() else 'cpu'"
   ]
  },
  {
   "cell_type": "code",
   "execution_count": 84,
   "metadata": {},
   "outputs": [],
   "source": [
    "news_df = pd.read_csv(DATA_PATH)\n",
    "\n",
    "#pre-processing\n",
    "# dropping the duplicate values\n",
    "news_df.drop_duplicates(inplace=True)\n",
    "news_df.dropna(inplace=True, axis=0)\n",
    "\n",
    "train_df , test_df = train_test_split(news_df, test_size=0.2 ,random_state=42)"
   ]
  },
  {
   "cell_type": "code",
   "execution_count": 90,
   "metadata": {},
   "outputs": [],
   "source": [
    "class myDataset(torch.utils.data.Dataset):\n",
    "    def __init__(self,df:pd.DataFrame):\n",
    "        self.df = df.reset_index(drop=True)\n",
    "        self.label = df['label']\n",
    "        self.text = df['text']\n",
    "    def __len__(self):\n",
    "        return len(self.df)\n",
    "    \n",
    "    def __getitem__(self,idx):\n",
    "        return self.text.iloc[idx], self.label.iloc[idx]"
   ]
  },
  {
   "cell_type": "code",
   "execution_count": 91,
   "metadata": {},
   "outputs": [],
   "source": [
    "#Mean Pooling - Take attention mask into account for correct averaging\n",
    "def mean_pooling(model_output, attention_mask):\n",
    "    token_embeddings = model_output[0] #First element of model_output contains all token embeddings\n",
    "    input_mask_expanded = attention_mask.unsqueeze(-1).expand(token_embeddings.size()).float()\n",
    "    return torch.sum(token_embeddings * input_mask_expanded, 1) / torch.clamp(input_mask_expanded.sum(1), min=1e-9)\n",
    "\n",
    "\n",
    "MODEL_NAME = \"Q93WnX4FUHx2mJ/e5-multi-base-sbert\"\n",
    "class myModel(nn.Module):\n",
    "    def __init__(self):\n",
    "        super().__init__()\n",
    "        # Load model directly\n",
    "        self.tokenizer = AutoTokenizer.from_pretrained(f'{MODEL_NAME}')\n",
    "        self.model = AutoModel.from_pretrained(f'{MODEL_NAME}')\n",
    "        self.linear1 = nn.Linear(768,1) #only one class, 0 or 1\n",
    "    \n",
    "    def forward(self,x:List[str] ) -> torch.Tensor:\n",
    "        bert_tokenized = self.tokenizer(x,max_length=512,truncation=True,padding=True, return_tensors='pt')\n",
    "        bert_output = self.model(**bert_tokenized)\n",
    "        sentence_embedding = mean_pooling(bert_output, bert_tokenized['attention_mask'])\n",
    "        output = self.linear1(sentence_embedding)\n",
    "        return output\n",
    "model = myModel().to(device)"
   ]
  },
  {
   "cell_type": "code",
   "execution_count": 92,
   "metadata": {},
   "outputs": [],
   "source": [
    "train_dataset = myDataset(train_df)\n",
    "test_dataset = myDataset(test_df)\n",
    "train_dataloader = DataLoader(train_dataset,batch_size=BATCH_SIZE, shuffle=True)\n",
    "test_dataset = DataLoader(test_dataset, batch_size=BATCH_SIZE, shuffle=False)"
   ]
  },
  {
   "cell_type": "code",
   "execution_count": null,
   "metadata": {},
   "outputs": [],
   "source": [
    "import wandb\n",
    "from sklearn.metrics import accuracy_score\n",
    "wandb.init(project=\"news_classification_baseline\")\n",
    "wandb.config = {\n",
    "    \"learning_rate\": LR,\n",
    "    \"epochs\": EPOCH,\n",
    "    \"batch_size\": BATCH_SIZE\n",
    "    }\n",
    "wandb.run.name = 'baseline'\n",
    "wandb.run.save()"
   ]
  },
  {
   "cell_type": "code",
   "execution_count": 115,
   "metadata": {},
   "outputs": [],
   "source": [
    "def train():    \n",
    "    criterion = nn.BCELoss()\n",
    "    optimizer = torch.optim.SGD(model.parameters(), lr=LR)\n",
    "    \n",
    "    for epoch in range(EPOCH):\n",
    "        epoch_loss = 0.0\n",
    "        epoch_acc = 0.0\n",
    "        for i, batch in enumerate(tqdm(train_dataloader)):\n",
    "            text, label = batch\n",
    "            \n",
    "            optimizer.zero_grad()\n",
    "            \n",
    "            output = model(text)\n",
    "            \n",
    "            loss = criterion(output, label.unsqueeze(1).float() )\n",
    "            epoch_loss+=loss.item()\n",
    "            \n",
    "            loss.backward()\n",
    "            \n",
    "            optimizer.step()\n",
    "            \n",
    "            pred = output.detach().numpy()\n",
    "            pred[pred<0.5] = 0\n",
    "            pred[pred!=0] = 1\n",
    "            \n",
    "            epoch_acc+= accuracy_score(label.unsqueeze(1), pred)\n",
    "            \n",
    "            if(i%2==0):\n",
    "                wandb.log( {\"train_loss\": epoch_loss/(i+1),\n",
    "                            \"train_acc\": epoch_acc/(i+1)} )\n",
    "    "
   ]
  },
  {
   "cell_type": "code",
   "execution_count": null,
   "metadata": {},
   "outputs": [],
   "source": [
    "def test():\n",
    "    ###### TODO: logging test accuracy & F1-score ############\n",
    "    pass\n",
    "\n",
    "    ##########################################################"
   ]
  },
  {
   "cell_type": "code",
   "execution_count": null,
   "metadata": {},
   "outputs": [],
   "source": [
    "train()"
   ]
  },
  {
   "cell_type": "code",
   "execution_count": null,
   "metadata": {},
   "outputs": [],
   "source": [
    "test()"
   ]
  }
 ],
 "metadata": {
  "kernelspec": {
   "display_name": "pytorch",
   "language": "python",
   "name": "python3"
  },
  "language_info": {
   "codemirror_mode": {
    "name": "ipython",
    "version": 3
   },
   "file_extension": ".py",
   "mimetype": "text/x-python",
   "name": "python",
   "nbconvert_exporter": "python",
   "pygments_lexer": "ipython3",
   "version": "3.7.13"
  }
 },
 "nbformat": 4,
 "nbformat_minor": 2
}
