{
 "cells": [
  {
   "cell_type": "code",
   "execution_count": 105,
   "metadata": {},
   "outputs": [
    {
     "name": "stdout",
     "output_type": "stream",
     "text": [
      "Requirement already satisfied: transformers in c:\\users\\naye0\\anaconda3\\envs\\pytorch\\lib\\site-packages (4.30.2)\n",
      "Requirement already satisfied: packaging>=20.0 in c:\\users\\naye0\\anaconda3\\envs\\pytorch\\lib\\site-packages (from transformers) (21.3)\n",
      "Requirement already satisfied: filelock in c:\\users\\naye0\\anaconda3\\envs\\pytorch\\lib\\site-packages (from transformers) (3.12.2)\n",
      "Requirement already satisfied: safetensors>=0.3.1 in c:\\users\\naye0\\anaconda3\\envs\\pytorch\\lib\\site-packages (from transformers) (0.4.0)\n",
      "Requirement already satisfied: importlib-metadata in c:\\users\\naye0\\anaconda3\\envs\\pytorch\\lib\\site-packages (from transformers) (4.11.3)\n",
      "Requirement already satisfied: regex!=2019.12.17 in c:\\users\\naye0\\anaconda3\\envs\\pytorch\\lib\\site-packages (from transformers) (2023.10.3)\n",
      "Requirement already satisfied: tqdm>=4.27 in c:\\users\\naye0\\anaconda3\\envs\\pytorch\\lib\\site-packages (from transformers) (4.66.1)\n",
      "Requirement already satisfied: tokenizers!=0.11.3,<0.14,>=0.11.1 in c:\\users\\naye0\\anaconda3\\envs\\pytorch\\lib\\site-packages (from transformers) (0.13.3)\n",
      "Requirement already satisfied: huggingface-hub<1.0,>=0.14.1 in c:\\users\\naye0\\anaconda3\\envs\\pytorch\\lib\\site-packages (from transformers) (0.16.4)\n",
      "Requirement already satisfied: requests in c:\\users\\naye0\\anaconda3\\envs\\pytorch\\lib\\site-packages (from transformers) (2.28.1)\n",
      "Requirement already satisfied: numpy>=1.17 in c:\\users\\naye0\\anaconda3\\envs\\pytorch\\lib\\site-packages (from transformers) (1.21.5)\n",
      "Requirement already satisfied: pyyaml>=5.1 in c:\\users\\naye0\\anaconda3\\envs\\pytorch\\lib\\site-packages (from transformers) (6.0.1)\n",
      "Requirement already satisfied: typing-extensions>=3.7.4.3 in c:\\users\\naye0\\anaconda3\\envs\\pytorch\\lib\\site-packages (from huggingface-hub<1.0,>=0.14.1->transformers) (4.1.1)\n",
      "Requirement already satisfied: fsspec in c:\\users\\naye0\\anaconda3\\envs\\pytorch\\lib\\site-packages (from huggingface-hub<1.0,>=0.14.1->transformers) (2023.1.0)\n",
      "Requirement already satisfied: pyparsing!=3.0.5,>=2.0.2 in c:\\users\\naye0\\anaconda3\\envs\\pytorch\\lib\\site-packages (from packaging>=20.0->transformers) (3.0.4)\n",
      "Requirement already satisfied: colorama in c:\\users\\naye0\\anaconda3\\envs\\pytorch\\lib\\site-packages (from tqdm>=4.27->transformers) (0.4.5)\n",
      "Requirement already satisfied: zipp>=0.5 in c:\\users\\naye0\\anaconda3\\envs\\pytorch\\lib\\site-packages (from importlib-metadata->transformers) (3.8.0)\n",
      "Requirement already satisfied: urllib3<1.27,>=1.21.1 in c:\\users\\naye0\\anaconda3\\envs\\pytorch\\lib\\site-packages (from requests->transformers) (1.26.9)\n",
      "Requirement already satisfied: charset-normalizer<3,>=2 in c:\\users\\naye0\\anaconda3\\envs\\pytorch\\lib\\site-packages (from requests->transformers) (2.0.4)\n",
      "Requirement already satisfied: certifi>=2017.4.17 in c:\\users\\naye0\\anaconda3\\envs\\pytorch\\lib\\site-packages (from requests->transformers) (2022.6.15)\n",
      "Requirement already satisfied: idna<4,>=2.5 in c:\\users\\naye0\\anaconda3\\envs\\pytorch\\lib\\site-packages (from requests->transformers) (3.3)\n",
      "Collecting wandb\n",
      "  Downloading wandb-0.15.12-py3-none-any.whl (2.1 MB)\n",
      "     ---------------------------------------- 2.1/2.1 MB 22.3 MB/s eta 0:00:00\n",
      "Collecting docker-pycreds>=0.4.0\n",
      "  Using cached docker_pycreds-0.4.0-py2.py3-none-any.whl (9.0 kB)\n",
      "Collecting appdirs>=1.4.3\n",
      "  Downloading appdirs-1.4.4-py2.py3-none-any.whl (9.6 kB)\n",
      "Collecting protobuf!=4.21.0,<5,>=3.19.0\n",
      "  Downloading protobuf-4.24.4-cp37-cp37m-win_amd64.whl (430 kB)\n",
      "     ------------------------------------- 430.0/430.0 kB 26.2 MB/s eta 0:00:00\n",
      "Requirement already satisfied: requests<3,>=2.0.0 in c:\\users\\naye0\\anaconda3\\envs\\pytorch\\lib\\site-packages (from wandb) (2.28.1)\n",
      "Requirement already satisfied: typing-extensions in c:\\users\\naye0\\anaconda3\\envs\\pytorch\\lib\\site-packages (from wandb) (4.1.1)\n",
      "Collecting sentry-sdk>=1.0.0\n",
      "  Downloading sentry_sdk-1.34.0-py2.py3-none-any.whl (243 kB)\n",
      "     ------------------------------------- 243.9/243.9 kB 15.6 MB/s eta 0:00:00\n",
      "Collecting Click!=8.0.0,>=7.1\n",
      "  Downloading click-8.1.7-py3-none-any.whl (97 kB)\n",
      "     ---------------------------------------- 97.9/97.9 kB ? eta 0:00:00\n",
      "Requirement already satisfied: setuptools in c:\\users\\naye0\\anaconda3\\envs\\pytorch\\lib\\site-packages (from wandb) (61.2.0)\n",
      "Collecting pathtools\n",
      "  Using cached pathtools-0.1.2-py3-none-any.whl\n",
      "Collecting GitPython!=3.1.29,>=1.0.0\n",
      "  Downloading GitPython-3.1.40-py3-none-any.whl (190 kB)\n",
      "     ------------------------------------- 190.6/190.6 kB 11.3 MB/s eta 0:00:00\n",
      "Collecting setproctitle\n",
      "  Downloading setproctitle-1.3.3-cp37-cp37m-win_amd64.whl (11 kB)\n",
      "Collecting psutil>=5.0.0\n",
      "  Downloading psutil-5.9.6-cp37-abi3-win_amd64.whl (252 kB)\n",
      "     ------------------------------------- 252.3/252.3 kB 16.1 MB/s eta 0:00:00\n",
      "Requirement already satisfied: PyYAML in c:\\users\\naye0\\anaconda3\\envs\\pytorch\\lib\\site-packages (from wandb) (6.0.1)\n",
      "Requirement already satisfied: importlib-metadata in c:\\users\\naye0\\anaconda3\\envs\\pytorch\\lib\\site-packages (from Click!=8.0.0,>=7.1->wandb) (4.11.3)\n",
      "Requirement already satisfied: colorama in c:\\users\\naye0\\anaconda3\\envs\\pytorch\\lib\\site-packages (from Click!=8.0.0,>=7.1->wandb) (0.4.5)\n",
      "Requirement already satisfied: six>=1.4.0 in c:\\users\\naye0\\anaconda3\\envs\\pytorch\\lib\\site-packages (from docker-pycreds>=0.4.0->wandb) (1.16.0)\n",
      "Collecting gitdb<5,>=4.0.1\n",
      "  Downloading gitdb-4.0.11-py3-none-any.whl (62 kB)\n",
      "     ---------------------------------------- 62.7/62.7 kB ? eta 0:00:00\n",
      "Requirement already satisfied: idna<4,>=2.5 in c:\\users\\naye0\\anaconda3\\envs\\pytorch\\lib\\site-packages (from requests<3,>=2.0.0->wandb) (3.3)\n",
      "Requirement already satisfied: certifi>=2017.4.17 in c:\\users\\naye0\\anaconda3\\envs\\pytorch\\lib\\site-packages (from requests<3,>=2.0.0->wandb) (2022.6.15)\n",
      "Requirement already satisfied: urllib3<1.27,>=1.21.1 in c:\\users\\naye0\\anaconda3\\envs\\pytorch\\lib\\site-packages (from requests<3,>=2.0.0->wandb) (1.26.9)\n",
      "Requirement already satisfied: charset-normalizer<3,>=2 in c:\\users\\naye0\\anaconda3\\envs\\pytorch\\lib\\site-packages (from requests<3,>=2.0.0->wandb) (2.0.4)\n",
      "Collecting urllib3<1.27,>=1.21.1\n",
      "  Downloading urllib3-1.26.18-py2.py3-none-any.whl (143 kB)\n",
      "     -------------------------------------- 143.8/143.8 kB 8.9 MB/s eta 0:00:00\n",
      "Collecting smmap<6,>=3.0.1\n",
      "  Downloading smmap-5.0.1-py3-none-any.whl (24 kB)\n",
      "Requirement already satisfied: zipp>=0.5 in c:\\users\\naye0\\anaconda3\\envs\\pytorch\\lib\\site-packages (from importlib-metadata->Click!=8.0.0,>=7.1->wandb) (3.8.0)\n",
      "Installing collected packages: pathtools, appdirs, urllib3, smmap, setproctitle, psutil, protobuf, docker-pycreds, sentry-sdk, gitdb, Click, GitPython, wandb\n",
      "  Attempting uninstall: urllib3\n",
      "    Found existing installation: urllib3 1.26.9\n",
      "    Uninstalling urllib3-1.26.9:\n",
      "      Successfully uninstalled urllib3-1.26.9\n",
      "Successfully installed Click-8.1.7 GitPython-3.1.40 appdirs-1.4.4 docker-pycreds-0.4.0 gitdb-4.0.11 pathtools-0.1.2 protobuf-4.24.4 psutil-5.9.6 sentry-sdk-1.34.0 setproctitle-1.3.3 smmap-5.0.1 urllib3-1.26.18 wandb-0.15.12\n"
     ]
    }
   ],
   "source": [
    "!pip install transformers\n",
    "!pip install wandb"
   ]
  },
  {
   "cell_type": "code",
   "execution_count": 43,
   "metadata": {},
   "outputs": [],
   "source": [
    "import torch\n",
    "import torch.nn as nn\n",
    "import numpy as np\n",
    "import pandas as pd\n",
    "from sklearn.model_selection import train_test_split\n",
    "from transformers import AutoTokenizer, AutoModelForMaskedLM\n",
    "from transformers import AutoTokenizer, AutoModel\n",
    "from typing import List\n",
    "from torch.utils.data import DataLoader\n",
    "from tqdm import tqdm"
   ]
  },
  {
   "cell_type": "code",
   "execution_count": 83,
   "metadata": {},
   "outputs": [],
   "source": [
    "DATA_PATH = 'data/WELFake_Dataset.csv'\n",
    "BATCH_SIZE = 1\n",
    "LR = 1e-4\n",
    "EPOCH = 10\n",
    "device = 'cuda' if torch.cuda.is_available() else 'cpu'"
   ]
  },
  {
   "cell_type": "code",
   "execution_count": 84,
   "metadata": {},
   "outputs": [],
   "source": [
    "news_df = pd.read_csv(DATA_PATH)\n",
    "\n",
    "#pre-processing\n",
    "# dropping the duplicate values\n",
    "news_df.drop_duplicates(inplace=True)\n",
    "news_df.dropna(inplace=True, axis=0)\n",
    "\n",
    "train_df , test_df = train_test_split(news_df, test_size=0.2 ,random_state=42)"
   ]
  },
  {
   "cell_type": "code",
   "execution_count": 90,
   "metadata": {},
   "outputs": [],
   "source": [
    "class myDataset(torch.utils.data.Dataset):\n",
    "    def __init__(self,df:pd.DataFrame):\n",
    "        self.df = df.reset_index(drop=True)\n",
    "        self.label = df['label']\n",
    "        self.text = df['text']\n",
    "    def __len__(self):\n",
    "        return len(self.df)\n",
    "    \n",
    "    def __getitem__(self,idx):\n",
    "        return self.text.iloc[idx], self.label.iloc[idx]"
   ]
  },
  {
   "cell_type": "code",
   "execution_count": 91,
   "metadata": {},
   "outputs": [],
   "source": [
    "#Mean Pooling - Take attention mask into account for correct averaging\n",
    "def mean_pooling(model_output, attention_mask):\n",
    "    token_embeddings = model_output[0] #First element of model_output contains all token embeddings\n",
    "    input_mask_expanded = attention_mask.unsqueeze(-1).expand(token_embeddings.size()).float()\n",
    "    return torch.sum(token_embeddings * input_mask_expanded, 1) / torch.clamp(input_mask_expanded.sum(1), min=1e-9)\n",
    "\n",
    "\n",
    "MODEL_NAME = \"Q93WnX4FUHx2mJ/e5-multi-base-sbert\"\n",
    "class myModel(nn.Module):\n",
    "    def __init__(self):\n",
    "        super().__init__()\n",
    "        # Load model directly\n",
    "        self.tokenizer = AutoTokenizer.from_pretrained(f'{MODEL_NAME}')\n",
    "        self.model = AutoModel.from_pretrained(f'{MODEL_NAME}')\n",
    "        self.linear1 = nn.Linear(768,1) #only one class, 0 or 1\n",
    "    \n",
    "    def forward(self,x:List[str] ) -> torch.Tensor:\n",
    "        bert_tokenized = self.tokenizer(x,max_length=512,truncation=True,padding=True, return_tensors='pt')\n",
    "        bert_output = self.model(**bert_tokenized)\n",
    "        sentence_embedding = mean_pooling(bert_output, bert_tokenized['attention_mask'])\n",
    "        output = self.linear1(sentence_embedding)\n",
    "        return output\n",
    "model = myModel().to(device)"
   ]
  },
  {
   "cell_type": "code",
   "execution_count": 92,
   "metadata": {},
   "outputs": [],
   "source": [
    "train_dataset = myDataset(train_df)\n",
    "test_dataset = myDataset(test_df)\n",
    "train_dataloader = DataLoader(train_dataset,batch_size=BATCH_SIZE, shuffle=True)\n",
    "test_dataset = DataLoader(test_dataset, batch_size=BATCH_SIZE, shuffle=False)"
   ]
  },
  {
   "cell_type": "code",
   "execution_count": null,
   "metadata": {},
   "outputs": [],
   "source": [
    "import wandb\n",
    "from sklearn.metrics import accuracy_score\n",
    "wandb.init(project=\"news_classification_baseline\")"
   ]
  },
  {
   "cell_type": "code",
   "execution_count": 115,
   "metadata": {},
   "outputs": [],
   "source": [
    "def train():    \n",
    "    criterion = nn.BCELoss()\n",
    "    optimizer = torch.optim.SGD(model.parameters(), lr=LR)\n",
    "    \n",
    "    wandb.config = {\n",
    "    \"learning_rate\": LR,\n",
    "    \"epochs\": EPOCH,\n",
    "    \"batch_size\": BATCH_SIZE\n",
    "    }\n",
    "    wandb.run.name = 'baseline'\n",
    "    wandb.run.save()\n",
    "    \n",
    "    for epoch in range(EPOCH):\n",
    "        epoch_loss = 0.0\n",
    "        epoch_acc = 0.0\n",
    "        for i, batch in enumerate(tqdm(train_dataloader)):\n",
    "            text, label = batch\n",
    "            \n",
    "            optimizer.zero_grad()\n",
    "            \n",
    "            output = model(text)\n",
    "            \n",
    "            loss = criterion(output, label.unsqueeze(1).float() )\n",
    "            epoch_loss+=loss.item()\n",
    "            \n",
    "            loss.backward()\n",
    "            \n",
    "            optimizer.step()\n",
    "            \n",
    "            pred = output.detach().numpy()\n",
    "            pred[pred<0.5] = 0\n",
    "            pred[pred!=0] = 1\n",
    "            \n",
    "            epoch_acc+= accuracy_score(label.unsqueeze(1), pred)\n",
    "            \n",
    "            if(i%2==0):\n",
    "                wandb.log( {\"train_loss\": epoch_loss/(i+1),\n",
    "                            \"train_acc\": epoch_acc/(i+1)} )\n",
    "    "
   ]
  },
  {
   "cell_type": "code",
   "execution_count": null,
   "metadata": {},
   "outputs": [],
   "source": [
    "train()"
   ]
  },
  {
   "cell_type": "code",
   "execution_count": null,
   "metadata": {},
   "outputs": [],
   "source": []
  }
 ],
 "metadata": {
  "kernelspec": {
   "display_name": "pytorch",
   "language": "python",
   "name": "python3"
  },
  "language_info": {
   "codemirror_mode": {
    "name": "ipython",
    "version": 3
   },
   "file_extension": ".py",
   "mimetype": "text/x-python",
   "name": "python",
   "nbconvert_exporter": "python",
   "pygments_lexer": "ipython3",
   "version": "3.7.13"
  }
 },
 "nbformat": 4,
 "nbformat_minor": 2
}
